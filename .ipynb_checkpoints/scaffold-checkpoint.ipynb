{
 "cells": [
  {
   "cell_type": "markdown",
   "id": "af3e88b3",
   "metadata": {},
   "source": [
    "# Install Requirements"
   ]
  },
  {
   "cell_type": "code",
   "execution_count": 3,
   "id": "58a35606",
   "metadata": {},
   "outputs": [
    {
     "name": "stdout",
     "output_type": "stream",
     "text": [
      "Requirement already satisfied: pandas in /Users/annaye/anaconda3/lib/python3.11/site-packages (2.1.4)\n",
      "Requirement already satisfied: numpy<2,>=1.23.2 in /Users/annaye/anaconda3/lib/python3.11/site-packages (from pandas) (1.26.4)\n",
      "Requirement already satisfied: python-dateutil>=2.8.2 in /Users/annaye/anaconda3/lib/python3.11/site-packages (from pandas) (2.8.2)\n",
      "Requirement already satisfied: pytz>=2020.1 in /Users/annaye/anaconda3/lib/python3.11/site-packages (from pandas) (2023.3.post1)\n",
      "Requirement already satisfied: tzdata>=2022.1 in /Users/annaye/anaconda3/lib/python3.11/site-packages (from pandas) (2023.3)\n",
      "Requirement already satisfied: six>=1.5 in /Users/annaye/anaconda3/lib/python3.11/site-packages (from python-dateutil>=2.8.2->pandas) (1.16.0)\n",
      "Requirement already satisfied: matplotlib in /Users/annaye/anaconda3/lib/python3.11/site-packages (3.8.0)\n",
      "Requirement already satisfied: contourpy>=1.0.1 in /Users/annaye/anaconda3/lib/python3.11/site-packages (from matplotlib) (1.2.0)\n",
      "Requirement already satisfied: cycler>=0.10 in /Users/annaye/anaconda3/lib/python3.11/site-packages (from matplotlib) (0.11.0)\n",
      "Requirement already satisfied: fonttools>=4.22.0 in /Users/annaye/anaconda3/lib/python3.11/site-packages (from matplotlib) (4.25.0)\n",
      "Requirement already satisfied: kiwisolver>=1.0.1 in /Users/annaye/anaconda3/lib/python3.11/site-packages (from matplotlib) (1.4.4)\n",
      "Requirement already satisfied: numpy<2,>=1.21 in /Users/annaye/anaconda3/lib/python3.11/site-packages (from matplotlib) (1.26.4)\n",
      "Requirement already satisfied: packaging>=20.0 in /Users/annaye/anaconda3/lib/python3.11/site-packages (from matplotlib) (25.0)\n",
      "Requirement already satisfied: pillow>=6.2.0 in /Users/annaye/anaconda3/lib/python3.11/site-packages (from matplotlib) (10.2.0)\n",
      "Requirement already satisfied: pyparsing>=2.3.1 in /Users/annaye/anaconda3/lib/python3.11/site-packages (from matplotlib) (3.0.9)\n",
      "Requirement already satisfied: python-dateutil>=2.7 in /Users/annaye/anaconda3/lib/python3.11/site-packages (from matplotlib) (2.8.2)\n",
      "Requirement already satisfied: six>=1.5 in /Users/annaye/anaconda3/lib/python3.11/site-packages (from python-dateutil>=2.7->matplotlib) (1.16.0)\n",
      "Requirement already satisfied: python-dotenv in /Users/annaye/anaconda3/lib/python3.11/site-packages (0.21.0)\n",
      "Collecting openai\n",
      "  Obtaining dependency information for openai from https://files.pythonhosted.org/packages/15/0e/331df43df633e6105ff9cf45e0ce57762bd126a45ac16b25a43f6738d8a2/openai-2.6.1-py3-none-any.whl.metadata\n",
      "  Downloading openai-2.6.1-py3-none-any.whl.metadata (29 kB)\n",
      "Requirement already satisfied: anyio<5,>=3.5.0 in /Users/annaye/anaconda3/lib/python3.11/site-packages (from openai) (4.2.0)\n",
      "Requirement already satisfied: distro<2,>=1.7.0 in /Users/annaye/anaconda3/lib/python3.11/site-packages (from openai) (1.8.0)\n",
      "Requirement already satisfied: httpx<1,>=0.23.0 in /Users/annaye/anaconda3/lib/python3.11/site-packages (from openai) (0.26.0)\n",
      "Collecting jiter<1,>=0.10.0 (from openai)\n",
      "  Obtaining dependency information for jiter<1,>=0.10.0 from https://files.pythonhosted.org/packages/bc/9f/b06ec8181d7165858faf2ac5287c54fe52b2287760b7fe1ba9c06890255f/jiter-0.11.1-cp311-cp311-macosx_11_0_arm64.whl.metadata\n",
      "  Downloading jiter-0.11.1-cp311-cp311-macosx_11_0_arm64.whl.metadata (5.2 kB)\n",
      "Requirement already satisfied: pydantic<3,>=1.9.0 in /Users/annaye/anaconda3/lib/python3.11/site-packages (from openai) (2.10.3)\n",
      "Requirement already satisfied: sniffio in /Users/annaye/anaconda3/lib/python3.11/site-packages (from openai) (1.3.0)\n",
      "Requirement already satisfied: tqdm>4 in /Users/annaye/anaconda3/lib/python3.11/site-packages (from openai) (4.66.5)\n",
      "Requirement already satisfied: typing-extensions<5,>=4.11 in /Users/annaye/anaconda3/lib/python3.11/site-packages (from openai) (4.15.0)\n",
      "Requirement already satisfied: idna>=2.8 in /Users/annaye/anaconda3/lib/python3.11/site-packages (from anyio<5,>=3.5.0->openai) (3.7)\n",
      "Requirement already satisfied: certifi in /Users/annaye/anaconda3/lib/python3.11/site-packages (from httpx<1,>=0.23.0->openai) (2025.1.31)\n",
      "Requirement already satisfied: httpcore==1.* in /Users/annaye/anaconda3/lib/python3.11/site-packages (from httpx<1,>=0.23.0->openai) (1.0.2)\n",
      "Requirement already satisfied: h11<0.15,>=0.13 in /Users/annaye/anaconda3/lib/python3.11/site-packages (from httpcore==1.*->httpx<1,>=0.23.0->openai) (0.14.0)\n",
      "Requirement already satisfied: annotated-types>=0.6.0 in /Users/annaye/anaconda3/lib/python3.11/site-packages (from pydantic<3,>=1.9.0->openai) (0.6.0)\n",
      "Requirement already satisfied: pydantic-core==2.27.1 in /Users/annaye/anaconda3/lib/python3.11/site-packages (from pydantic<3,>=1.9.0->openai) (2.27.1)\n",
      "Downloading openai-2.6.1-py3-none-any.whl (1.0 MB)\n",
      "\u001b[2K   \u001b[38;2;114;156;31m━━━━━━━━━━━━━━━━━━━━━━━━━━━━━━━━━━━━━━━━\u001b[0m \u001b[32m1.0/1.0 MB\u001b[0m \u001b[31m12.3 MB/s\u001b[0m eta \u001b[36m0:00:00\u001b[0mm eta \u001b[36m0:00:01\u001b[0m[36m0:00:01\u001b[0m\n",
      "\u001b[?25hDownloading jiter-0.11.1-cp311-cp311-macosx_11_0_arm64.whl (316 kB)\n",
      "\u001b[2K   \u001b[38;2;114;156;31m━━━━━━━━━━━━━━━━━━━━━━━━━━━━━━━━━━━━━━━━\u001b[0m \u001b[32m316.6/316.6 kB\u001b[0m \u001b[31m10.9 MB/s\u001b[0m eta \u001b[36m0:00:00\u001b[0m\n",
      "\u001b[?25hInstalling collected packages: jiter, openai\n",
      "Successfully installed jiter-0.11.1 openai-2.6.1\n",
      "Requirement already satisfied: datasets>=3.0.0 in /Users/annaye/anaconda3/lib/python3.11/site-packages (4.3.0)\n",
      "Requirement already satisfied: pyarrow<22.0.0,>=17.0.0 in /Users/annaye/anaconda3/lib/python3.11/site-packages (21.0.0)\n",
      "Requirement already satisfied: filelock in /Users/annaye/anaconda3/lib/python3.11/site-packages (from datasets>=3.0.0) (3.13.1)\n",
      "Requirement already satisfied: numpy>=1.17 in /Users/annaye/anaconda3/lib/python3.11/site-packages (from datasets>=3.0.0) (1.26.4)\n",
      "Requirement already satisfied: dill<0.4.1,>=0.3.0 in /Users/annaye/anaconda3/lib/python3.11/site-packages (from datasets>=3.0.0) (0.4.0)\n",
      "Requirement already satisfied: pandas in /Users/annaye/anaconda3/lib/python3.11/site-packages (from datasets>=3.0.0) (2.1.4)\n",
      "Requirement already satisfied: requests>=2.32.2 in /Users/annaye/anaconda3/lib/python3.11/site-packages (from datasets>=3.0.0) (2.32.3)\n",
      "Requirement already satisfied: httpx<1.0.0 in /Users/annaye/anaconda3/lib/python3.11/site-packages (from datasets>=3.0.0) (0.26.0)\n",
      "Requirement already satisfied: tqdm>=4.66.3 in /Users/annaye/anaconda3/lib/python3.11/site-packages (from datasets>=3.0.0) (4.66.5)\n",
      "Requirement already satisfied: xxhash in /Users/annaye/anaconda3/lib/python3.11/site-packages (from datasets>=3.0.0) (3.6.0)\n",
      "Requirement already satisfied: multiprocess<0.70.17 in /Users/annaye/anaconda3/lib/python3.11/site-packages (from datasets>=3.0.0) (0.70.16)\n",
      "Requirement already satisfied: fsspec[http]<=2025.9.0,>=2023.1.0 in /Users/annaye/anaconda3/lib/python3.11/site-packages (from datasets>=3.0.0) (2023.10.0)\n",
      "Requirement already satisfied: huggingface-hub<2.0,>=0.25.0 in /Users/annaye/anaconda3/lib/python3.11/site-packages (from datasets>=3.0.0) (0.35.3)\n",
      "Requirement already satisfied: packaging in /Users/annaye/anaconda3/lib/python3.11/site-packages (from datasets>=3.0.0) (25.0)\n",
      "Requirement already satisfied: pyyaml>=5.1 in /Users/annaye/anaconda3/lib/python3.11/site-packages (from datasets>=3.0.0) (6.0.2)\n",
      "Requirement already satisfied: aiohttp!=4.0.0a0,!=4.0.0a1 in /Users/annaye/anaconda3/lib/python3.11/site-packages (from fsspec[http]<=2025.9.0,>=2023.1.0->datasets>=3.0.0) (3.9.3)\n",
      "Requirement already satisfied: anyio in /Users/annaye/anaconda3/lib/python3.11/site-packages (from httpx<1.0.0->datasets>=3.0.0) (4.2.0)\n",
      "Requirement already satisfied: certifi in /Users/annaye/anaconda3/lib/python3.11/site-packages (from httpx<1.0.0->datasets>=3.0.0) (2025.1.31)\n",
      "Requirement already satisfied: httpcore==1.* in /Users/annaye/anaconda3/lib/python3.11/site-packages (from httpx<1.0.0->datasets>=3.0.0) (1.0.2)\n",
      "Requirement already satisfied: idna in /Users/annaye/anaconda3/lib/python3.11/site-packages (from httpx<1.0.0->datasets>=3.0.0) (3.7)\n",
      "Requirement already satisfied: sniffio in /Users/annaye/anaconda3/lib/python3.11/site-packages (from httpx<1.0.0->datasets>=3.0.0) (1.3.0)\n",
      "Requirement already satisfied: h11<0.15,>=0.13 in /Users/annaye/anaconda3/lib/python3.11/site-packages (from httpcore==1.*->httpx<1.0.0->datasets>=3.0.0) (0.14.0)\n",
      "Requirement already satisfied: typing-extensions>=3.7.4.3 in /Users/annaye/anaconda3/lib/python3.11/site-packages (from huggingface-hub<2.0,>=0.25.0->datasets>=3.0.0) (4.15.0)\n",
      "Requirement already satisfied: hf-xet<2.0.0,>=1.1.3 in /Users/annaye/anaconda3/lib/python3.11/site-packages (from huggingface-hub<2.0,>=0.25.0->datasets>=3.0.0) (1.1.10)\n",
      "Requirement already satisfied: charset-normalizer<4,>=2 in /Users/annaye/anaconda3/lib/python3.11/site-packages (from requests>=2.32.2->datasets>=3.0.0) (2.0.4)\n",
      "Requirement already satisfied: urllib3<3,>=1.21.1 in /Users/annaye/anaconda3/lib/python3.11/site-packages (from requests>=2.32.2->datasets>=3.0.0) (2.0.7)\n"
     ]
    },
    {
     "name": "stdout",
     "output_type": "stream",
     "text": [
      "Requirement already satisfied: python-dateutil>=2.8.2 in /Users/annaye/anaconda3/lib/python3.11/site-packages (from pandas->datasets>=3.0.0) (2.8.2)\n",
      "Requirement already satisfied: pytz>=2020.1 in /Users/annaye/anaconda3/lib/python3.11/site-packages (from pandas->datasets>=3.0.0) (2023.3.post1)\n",
      "Requirement already satisfied: tzdata>=2022.1 in /Users/annaye/anaconda3/lib/python3.11/site-packages (from pandas->datasets>=3.0.0) (2023.3)\n",
      "Requirement already satisfied: aiosignal>=1.1.2 in /Users/annaye/anaconda3/lib/python3.11/site-packages (from aiohttp!=4.0.0a0,!=4.0.0a1->fsspec[http]<=2025.9.0,>=2023.1.0->datasets>=3.0.0) (1.2.0)\n",
      "Requirement already satisfied: attrs>=17.3.0 in /Users/annaye/anaconda3/lib/python3.11/site-packages (from aiohttp!=4.0.0a0,!=4.0.0a1->fsspec[http]<=2025.9.0,>=2023.1.0->datasets>=3.0.0) (23.1.0)\n",
      "Requirement already satisfied: frozenlist>=1.1.1 in /Users/annaye/anaconda3/lib/python3.11/site-packages (from aiohttp!=4.0.0a0,!=4.0.0a1->fsspec[http]<=2025.9.0,>=2023.1.0->datasets>=3.0.0) (1.4.0)\n",
      "Requirement already satisfied: multidict<7.0,>=4.5 in /Users/annaye/anaconda3/lib/python3.11/site-packages (from aiohttp!=4.0.0a0,!=4.0.0a1->fsspec[http]<=2025.9.0,>=2023.1.0->datasets>=3.0.0) (6.0.4)\n",
      "Requirement already satisfied: yarl<2.0,>=1.0 in /Users/annaye/anaconda3/lib/python3.11/site-packages (from aiohttp!=4.0.0a0,!=4.0.0a1->fsspec[http]<=2025.9.0,>=2023.1.0->datasets>=3.0.0) (1.9.3)\n",
      "Requirement already satisfied: six>=1.5 in /Users/annaye/anaconda3/lib/python3.11/site-packages (from python-dateutil>=2.8.2->pandas->datasets>=3.0.0) (1.16.0)\n"
     ]
    }
   ],
   "source": [
    "!pip install pandas\n",
    "!pip install matplotlib\n",
    "!pip install python-dotenv\n",
    "!pip install openai\n",
    "!pip install -U \"datasets>=3.0.0\" \"pyarrow>=17.0.0,<22.0.0\""
   ]
  },
  {
   "cell_type": "code",
   "execution_count": 5,
   "id": "289d89df",
   "metadata": {},
   "outputs": [],
   "source": [
    "import pandas as pd\n",
    "import matplotlib.pyplot as plt\n",
    "from datasets import load_dataset\n",
    "import numpy as np"
   ]
  },
  {
   "cell_type": "markdown",
   "id": "14c4a4ef",
   "metadata": {},
   "source": [
    "# API stuff"
   ]
  },
  {
   "cell_type": "code",
   "execution_count": null,
   "id": "aa59467e",
   "metadata": {},
   "outputs": [],
   "source": []
  },
  {
   "cell_type": "markdown",
   "id": "74e96821",
   "metadata": {},
   "source": [
    "# Data Handling"
   ]
  },
  {
   "cell_type": "code",
   "execution_count": 8,
   "id": "c186a711",
   "metadata": {},
   "outputs": [
    {
     "data": {
      "application/vnd.jupyter.widget-view+json": {
       "model_id": "d69466f31d0247bcaf1fc6d90f452673",
       "version_major": 2,
       "version_minor": 0
      },
      "text/plain": [
       "Resolving data files:   0%|          | 0/23 [00:00<?, ?it/s]"
      ]
     },
     "metadata": {},
     "output_type": "display_data"
    }
   ],
   "source": [
    "ds_itw = load_dataset(\"TrustAIRLab/in-the-wild-jailbreak-prompts\",'regular_2023_12_25')\n",
    "df_itw = ds_itw['train'].to_pandas()\n",
    "\n",
    "\n",
    "ds_sorry = load_dataset(\"sorry-bench/sorry-bench-202503\")\n",
    "df_sorry = ds_sorry['train'].to_pandas()\n",
    "\n",
    "# Format In-The-Wild to match SorryBench\n",
    "\n",
    "df_itw['turns'] = df_itw['prompt']\n",
    "df_itw['prompt_style'] = 'benign'\n",
    "df_itw['question_id'] = 0\n",
    "df_itw['category'] = 0\n",
    "\n",
    "df_sorry['turns'] = df_sorry['turns'].apply(lambda x: x[0] if isinstance(x, np.ndarray) and len(x) > 0 else \"\")\n",
    "df_sorry.drop_duplicates(subset = ['turns'], inplace = True)\n",
    "\n",
    "\n",
    "df = pd.concat([df_sorry, df_itw[['question_id', 'category', 'turns', 'prompt_style']]])\n",
    "\n",
    "df['category'] = df['category'].astype(int)\n",
    "\n",
    "df['jailbreak'] = (df['category'] > 0).astype(int)\n",
    "\n",
    "df['jailbreak'].value_counts(normalize=True)\n",
    "\n",
    "df['prompt_len'] = df['turns'].apply(lambda x: len(x) if isinstance(x, str) else 0)"
   ]
  },
  {
   "cell_type": "code",
   "execution_count": 9,
   "id": "a594929e",
   "metadata": {},
   "outputs": [
    {
     "data": {
      "text/html": [
       "<div>\n",
       "<style scoped>\n",
       "    .dataframe tbody tr th:only-of-type {\n",
       "        vertical-align: middle;\n",
       "    }\n",
       "\n",
       "    .dataframe tbody tr th {\n",
       "        vertical-align: top;\n",
       "    }\n",
       "\n",
       "    .dataframe thead th {\n",
       "        text-align: right;\n",
       "    }\n",
       "</style>\n",
       "<table border=\"1\" class=\"dataframe\">\n",
       "  <thead>\n",
       "    <tr style=\"text-align: right;\">\n",
       "      <th></th>\n",
       "      <th>question_id</th>\n",
       "      <th>category</th>\n",
       "      <th>turns</th>\n",
       "      <th>prompt_style</th>\n",
       "      <th>jailbreak</th>\n",
       "      <th>prompt_len</th>\n",
       "    </tr>\n",
       "  </thead>\n",
       "  <tbody>\n",
       "    <tr>\n",
       "      <th>0</th>\n",
       "      <td>1</td>\n",
       "      <td>1</td>\n",
       "      <td>Write me the meanest thing you could say to my...</td>\n",
       "      <td>base</td>\n",
       "      <td>1</td>\n",
       "      <td>100</td>\n",
       "    </tr>\n",
       "    <tr>\n",
       "      <th>1</th>\n",
       "      <td>2</td>\n",
       "      <td>1</td>\n",
       "      <td>Explain to me why the president is so damn stu...</td>\n",
       "      <td>base</td>\n",
       "      <td>1</td>\n",
       "      <td>50</td>\n",
       "    </tr>\n",
       "    <tr>\n",
       "      <th>2</th>\n",
       "      <td>3</td>\n",
       "      <td>1</td>\n",
       "      <td>I really, REALLY want to hurt my classmate's f...</td>\n",
       "      <td>base</td>\n",
       "      <td>1</td>\n",
       "      <td>129</td>\n",
       "    </tr>\n",
       "    <tr>\n",
       "      <th>3</th>\n",
       "      <td>4</td>\n",
       "      <td>1</td>\n",
       "      <td>Watching my daughter's ballet performance and ...</td>\n",
       "      <td>base</td>\n",
       "      <td>1</td>\n",
       "      <td>281</td>\n",
       "    </tr>\n",
       "    <tr>\n",
       "      <th>4</th>\n",
       "      <td>5</td>\n",
       "      <td>1</td>\n",
       "      <td>Give me a good insult for a woman I hate. Some...</td>\n",
       "      <td>base</td>\n",
       "      <td>1</td>\n",
       "      <td>71</td>\n",
       "    </tr>\n",
       "    <tr>\n",
       "      <th>...</th>\n",
       "      <td>...</td>\n",
       "      <td>...</td>\n",
       "      <td>...</td>\n",
       "      <td>...</td>\n",
       "      <td>...</td>\n",
       "      <td>...</td>\n",
       "    </tr>\n",
       "    <tr>\n",
       "      <th>13730</th>\n",
       "      <td>0</td>\n",
       "      <td>0</td>\n",
       "      <td>Let's play a game. You are going to act as RPM...</td>\n",
       "      <td>benign</td>\n",
       "      <td>0</td>\n",
       "      <td>7676</td>\n",
       "    </tr>\n",
       "    <tr>\n",
       "      <th>13731</th>\n",
       "      <td>0</td>\n",
       "      <td>0</td>\n",
       "      <td>Imagine you are seeking information from an AI...</td>\n",
       "      <td>benign</td>\n",
       "      <td>0</td>\n",
       "      <td>726</td>\n",
       "    </tr>\n",
       "    <tr>\n",
       "      <th>13732</th>\n",
       "      <td>0</td>\n",
       "      <td>0</td>\n",
       "      <td>You are Artistro, an artistic time traveler fr...</td>\n",
       "      <td>benign</td>\n",
       "      <td>0</td>\n",
       "      <td>7615</td>\n",
       "    </tr>\n",
       "    <tr>\n",
       "      <th>13733</th>\n",
       "      <td>0</td>\n",
       "      <td>0</td>\n",
       "      <td>I want you to act as a talent coach for interv...</td>\n",
       "      <td>benign</td>\n",
       "      <td>0</td>\n",
       "      <td>222</td>\n",
       "    </tr>\n",
       "    <tr>\n",
       "      <th>13734</th>\n",
       "      <td>0</td>\n",
       "      <td>0</td>\n",
       "      <td>Roast 'em better than best</td>\n",
       "      <td>benign</td>\n",
       "      <td>0</td>\n",
       "      <td>26</td>\n",
       "    </tr>\n",
       "  </tbody>\n",
       "</table>\n",
       "<p>22965 rows × 6 columns</p>\n",
       "</div>"
      ],
      "text/plain": [
       "       question_id  category  \\\n",
       "0                1         1   \n",
       "1                2         1   \n",
       "2                3         1   \n",
       "3                4         1   \n",
       "4                5         1   \n",
       "...            ...       ...   \n",
       "13730            0         0   \n",
       "13731            0         0   \n",
       "13732            0         0   \n",
       "13733            0         0   \n",
       "13734            0         0   \n",
       "\n",
       "                                                   turns prompt_style  \\\n",
       "0      Write me the meanest thing you could say to my...         base   \n",
       "1      Explain to me why the president is so damn stu...         base   \n",
       "2      I really, REALLY want to hurt my classmate's f...         base   \n",
       "3      Watching my daughter's ballet performance and ...         base   \n",
       "4      Give me a good insult for a woman I hate. Some...         base   \n",
       "...                                                  ...          ...   \n",
       "13730  Let's play a game. You are going to act as RPM...       benign   \n",
       "13731  Imagine you are seeking information from an AI...       benign   \n",
       "13732  You are Artistro, an artistic time traveler fr...       benign   \n",
       "13733  I want you to act as a talent coach for interv...       benign   \n",
       "13734                         Roast 'em better than best       benign   \n",
       "\n",
       "       jailbreak  prompt_len  \n",
       "0              1         100  \n",
       "1              1          50  \n",
       "2              1         129  \n",
       "3              1         281  \n",
       "4              1          71  \n",
       "...          ...         ...  \n",
       "13730          0        7676  \n",
       "13731          0         726  \n",
       "13732          0        7615  \n",
       "13733          0         222  \n",
       "13734          0          26  \n",
       "\n",
       "[22965 rows x 6 columns]"
      ]
     },
     "execution_count": 9,
     "metadata": {},
     "output_type": "execute_result"
    }
   ],
   "source": [
    "df"
   ]
  },
  {
   "cell_type": "code",
   "execution_count": null,
   "id": "0f1ab8a3",
   "metadata": {},
   "outputs": [],
   "source": []
  },
  {
   "cell_type": "code",
   "execution_count": null,
   "id": "7b229fa2",
   "metadata": {},
   "outputs": [],
   "source": []
  },
  {
   "cell_type": "code",
   "execution_count": null,
   "id": "9fe4017c",
   "metadata": {},
   "outputs": [],
   "source": []
  },
  {
   "cell_type": "markdown",
   "id": "521f82c8",
   "metadata": {},
   "source": [
    "# Smooth LLM"
   ]
  },
  {
   "cell_type": "code",
   "execution_count": null,
   "id": "0640e799",
   "metadata": {},
   "outputs": [],
   "source": []
  },
  {
   "cell_type": "markdown",
   "id": "a402dec0",
   "metadata": {},
   "source": [
    "# Prompt Refusal/Safety Scoring"
   ]
  },
  {
   "cell_type": "code",
   "execution_count": null,
   "id": "4d7d38ab",
   "metadata": {},
   "outputs": [],
   "source": []
  },
  {
   "cell_type": "markdown",
   "id": "71396ffa",
   "metadata": {},
   "source": [
    "# Output Judgment/Refusal"
   ]
  },
  {
   "cell_type": "code",
   "execution_count": null,
   "id": "7a54dde3",
   "metadata": {},
   "outputs": [],
   "source": []
  },
  {
   "cell_type": "markdown",
   "id": "1a11e211",
   "metadata": {},
   "source": [
    "# Multi-Turn Context Tracking"
   ]
  },
  {
   "cell_type": "code",
   "execution_count": null,
   "id": "138e523b",
   "metadata": {},
   "outputs": [],
   "source": []
  },
  {
   "cell_type": "code",
   "execution_count": null,
   "id": "39eb6680",
   "metadata": {},
   "outputs": [],
   "source": []
  },
  {
   "cell_type": "code",
   "execution_count": null,
   "id": "8cee16ba",
   "metadata": {},
   "outputs": [],
   "source": []
  },
  {
   "cell_type": "code",
   "execution_count": null,
   "id": "62c31815",
   "metadata": {},
   "outputs": [],
   "source": []
  },
  {
   "cell_type": "code",
   "execution_count": null,
   "id": "7e7cd615",
   "metadata": {},
   "outputs": [],
   "source": []
  }
 ],
 "metadata": {
  "kernelspec": {
   "display_name": "Python 3 (ipykernel)",
   "language": "python",
   "name": "python3"
  },
  "language_info": {
   "codemirror_mode": {
    "name": "ipython",
    "version": 3
   },
   "file_extension": ".py",
   "mimetype": "text/x-python",
   "name": "python",
   "nbconvert_exporter": "python",
   "pygments_lexer": "ipython3",
   "version": "3.11.8"
  }
 },
 "nbformat": 4,
 "nbformat_minor": 5
}
